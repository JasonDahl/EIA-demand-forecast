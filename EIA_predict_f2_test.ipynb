{
 "cells": [
  {
   "cell_type": "code",
   "execution_count": 1,
   "id": "5aa1a489",
   "metadata": {},
   "outputs": [],
   "source": [
    "import datetime as dt\n",
    "import numpy as np\n",
    "import pandas as pd\n",
    "\n",
    "import pickle\n",
    "\n",
    "from sklearn import base\n",
    "from sklearn.pipeline import Pipeline, FeatureUnion\n",
    "from sklearn.linear_model import LinearRegression\n",
    "from sklearn.preprocessing import StandardScaler\n",
    "from sklearn import metrics\n",
    "from sklearn import ensemble\n"
   ]
  },
  {
   "cell_type": "code",
   "execution_count": 2,
   "id": "c2f882c1",
   "metadata": {},
   "outputs": [],
   "source": [
    "#define custom transformers\n",
    "class HourofDay(base.BaseEstimator, base.TransformerMixin):\n",
    "    \n",
    "    def __init__(self, column_name='target', horizon=0):\n",
    "        self.column_name=column_name\n",
    "        self.horizon = horizon\n",
    "    \n",
    "    def fit(self, X, y=None):\n",
    "        return self\n",
    "    \n",
    "    def hour_vector(self, hour):\n",
    "        v = np.zeros(24)\n",
    "        v[hour] = 1\n",
    "        return v\n",
    "    \n",
    "    def transform(self, X):\n",
    "        # Adjust the timestamp with the horizon offset\n",
    "        adjusted_timestamp = X[self.column_name] + pd.DateOffset(hours=self.horizon)\n",
    "        \n",
    "        # Extract the hour of the day for the adjusted timestamp\n",
    "        hour_of_day = adjusted_timestamp.dt.hour\n",
    "        \n",
    "        return np.stack([self.hour_vector(h) for h in hour_of_day])\n",
    "    \n",
    "class DayofWeek(base.BaseEstimator, base.TransformerMixin):\n",
    "    \n",
    "    def __init__(self, column_name='target', horizon=0):\n",
    "        self.column_name=column_name\n",
    "        self.horizon=horizon\n",
    "    \n",
    "    def fit(self, X, y=None):\n",
    "        return self\n",
    "    \n",
    "    def weekday_vector(self, weekday):\n",
    "        v = np.zeros(7)\n",
    "        v[weekday] = 1\n",
    "        return v\n",
    "    \n",
    "    def transform(self, X):\n",
    "        # Adjust the timestamp with the horizon offset\n",
    "        adjusted_timestamp = X[self.column_name] + pd.DateOffset(hours=self.horizon)\n",
    "        \n",
    "        # Extract the day of the week for the adjusted timestamp\n",
    "        day_of_week = adjusted_timestamp.dt.dayofweek\n",
    "        \n",
    "        return np.stack([self.weekday_vector(d) for d in day_of_week])\n",
    "\n",
    "class MonthofYear(base.BaseEstimator, base.TransformerMixin):\n",
    "    \n",
    "    def __init__(self, column_name='target', horizon=0):\n",
    "        self.column_name=column_name\n",
    "        self.horizon=horizon\n",
    "    \n",
    "    def fit(self, X, y=None):\n",
    "        return self\n",
    "    \n",
    "    def month_vector(self, month):\n",
    "        v = np.zeros(12)\n",
    "        v[month-1] = 1\n",
    "        return v\n",
    "    \n",
    "    def transform(self, X):\n",
    "        # Adjust the timestamp with the horizon offset\n",
    "        adjusted_timestamp = X[self.column_name] + pd.DateOffset(hours=self.horizon)\n",
    "        \n",
    "        # Extract the hour of the day for the adjusted timestamp\n",
    "        month_of_year = adjusted_timestamp.dt.month\n",
    "        \n",
    "        return np.stack([self.month_vector(m) for m in month_of_year])\n",
    "    \n",
    "class LagTransformer(base.BaseEstimator, base.TransformerMixin):\n",
    "    def __init__(self, column_name='label', lag=1):\n",
    "        self.lag=lag\n",
    "        self.column_name=column_name\n",
    "    \n",
    "    def fit(self, X, y=None):\n",
    "        return self\n",
    "    \n",
    "    def transform(self, X):\n",
    "        # Create a copy of the input DataFrame to avoid altering the original\n",
    "        X_copy = X.copy()\n",
    "        \n",
    "        # Shift the specified column by 'lag' rows\n",
    "        if self.lag <= len(X) - 1:\n",
    "            X_copy[f'{self.column_name}-{self.lag}'] = X_copy[self.column_name].shift(self.lag)\n",
    "            X_copy[f'{self.column_name}-{self.lag}'] = X_copy[f'{self.column_name}-{self.lag}'].fillna(method='bfill', axis=0)\n",
    "            return X_copy[[f'{self.column_name}-{self.lag}']]\n",
    "        else:\n",
    "            print(f'Requested shift {self.lag} > number of records. Returning {self.column_name}-{len(X_copy)-1}')\n",
    "            X_copy[f'{self.column_name}-{len(X_copy)-1}'] = X_copy[self.column_name].shift(len(X_copy) - 1)\n",
    "            X_copy[f'{self.column_name}-{len(X_copy)-1}'] = X_copy[f'{self.column_name}-{len(X_copy)-1}'].fillna(method='bfill', axis=0)\n",
    "            return X_copy[f'{self.column_name}-{len(X_copy)-1}']"
   ]
  },
  {
   "cell_type": "code",
   "execution_count": 3,
   "id": "c6bce273",
   "metadata": {},
   "outputs": [],
   "source": [
    "# Load the pickled models\n",
    "with open('base_nowcast.bin', 'rb') as f_in:\n",
    "    season_model_f0 = pickle.load(f_in)\n",
    "\n",
    "with open('base_forecast_f2.bin', 'rb') as f_in:\n",
    "    season_model_f2 = pickle.load(f_in)\n",
    "\n",
    "with open('residual_forecast_f2.bin', 'rb') as f_in:\n",
    "    residual_model_f2 = pickle.load(f_in)"
   ]
  },
  {
   "cell_type": "code",
   "execution_count": 24,
   "id": "26125be6",
   "metadata": {},
   "outputs": [],
   "source": [
    "# Load 5 hours of historical demand data into the input data variables\n",
    "input_json = {\n",
    "    'data': [\n",
    "        {'date_time': '2019-07-02 00:00:00', 'demand_MW': 17918},\n",
    "        {'date_time': '2019-07-02 01:00:00', 'demand_MW': 17400},\n",
    "        {'date_time': '2019-07-02 02:00:00', 'demand_MW': 16700},\n",
    "        {'date_time': '2019-07-02 03:00:00', 'demand_MW': 15190},\n",
    "        {'date_time': '2019-07-02 04:00:00', 'demand_MW': 13623}\n",
    "    ]\n",
    "}\n",
    "\n",
    "test_df = pd.DataFrame(input_json['data'])\n",
    "test_df['date_time'] = pd.to_datetime(test_df['date_time'])\n",
    "test_df['demand_MW'] = test_df['demand_MW'].astype(float)"
   ]
  },
  {
   "cell_type": "code",
   "execution_count": 25,
   "id": "5c8d08de",
   "metadata": {},
   "outputs": [
    {
     "name": "stdout",
     "output_type": "stream",
     "text": [
      "<class 'pandas.core.frame.DataFrame'>\n",
      "RangeIndex: 5 entries, 0 to 4\n",
      "Data columns (total 2 columns):\n",
      " #   Column     Non-Null Count  Dtype         \n",
      "---  ------     --------------  -----         \n",
      " 0   date_time  5 non-null      datetime64[ns]\n",
      " 1   demand_MW  5 non-null      float64       \n",
      "dtypes: datetime64[ns](1), float64(1)\n",
      "memory usage: 212.0 bytes\n"
     ]
    }
   ],
   "source": [
    "test_df.info()"
   ]
  },
  {
   "cell_type": "code",
   "execution_count": 5,
   "id": "19f501f0",
   "metadata": {},
   "outputs": [],
   "source": [
    "test_df['base_demand_f0'] = np.expm1(season_model_f0.predict(test_df))"
   ]
  },
  {
   "cell_type": "code",
   "execution_count": 6,
   "id": "b2422458",
   "metadata": {},
   "outputs": [
    {
     "data": {
      "text/plain": [
       "array([17934.82994512, 16594.01968172, 15269.32974356, 14378.77351081,\n",
       "       13959.767421  ])"
      ]
     },
     "execution_count": 6,
     "metadata": {},
     "output_type": "execute_result"
    }
   ],
   "source": [
    "base_demand_f2 = np.expm1(season_model_f2.predict(test_df))\n",
    "base_demand_f2"
   ]
  },
  {
   "cell_type": "code",
   "execution_count": 7,
   "id": "7a205597",
   "metadata": {
    "scrolled": true
   },
   "outputs": [
    {
     "data": {
      "text/html": [
       "<div>\n",
       "<style scoped>\n",
       "    .dataframe tbody tr th:only-of-type {\n",
       "        vertical-align: middle;\n",
       "    }\n",
       "\n",
       "    .dataframe tbody tr th {\n",
       "        vertical-align: top;\n",
       "    }\n",
       "\n",
       "    .dataframe thead th {\n",
       "        text-align: right;\n",
       "    }\n",
       "</style>\n",
       "<table border=\"1\" class=\"dataframe\">\n",
       "  <thead>\n",
       "    <tr style=\"text-align: right;\">\n",
       "      <th></th>\n",
       "      <th>date_time</th>\n",
       "      <th>demand_MW</th>\n",
       "      <th>base_demand_f0</th>\n",
       "      <th>demand_anomaly_f0</th>\n",
       "    </tr>\n",
       "  </thead>\n",
       "  <tbody>\n",
       "    <tr>\n",
       "      <th>0</th>\n",
       "      <td>2019-07-02 00:00:00</td>\n",
       "      <td>17918.0</td>\n",
       "      <td>19200.860439</td>\n",
       "      <td>-1282.860439</td>\n",
       "    </tr>\n",
       "    <tr>\n",
       "      <th>1</th>\n",
       "      <td>2019-07-02 01:00:00</td>\n",
       "      <td>17400.0</td>\n",
       "      <td>18864.549754</td>\n",
       "      <td>-1464.549754</td>\n",
       "    </tr>\n",
       "    <tr>\n",
       "      <th>2</th>\n",
       "      <td>2019-07-02 02:00:00</td>\n",
       "      <td>16700.0</td>\n",
       "      <td>17987.453369</td>\n",
       "      <td>-1287.453369</td>\n",
       "    </tr>\n",
       "    <tr>\n",
       "      <th>3</th>\n",
       "      <td>2019-07-02 03:00:00</td>\n",
       "      <td>15190.0</td>\n",
       "      <td>16642.709191</td>\n",
       "      <td>-1452.709191</td>\n",
       "    </tr>\n",
       "    <tr>\n",
       "      <th>4</th>\n",
       "      <td>2019-07-02 04:00:00</td>\n",
       "      <td>13623.0</td>\n",
       "      <td>15313.665261</td>\n",
       "      <td>-1690.665261</td>\n",
       "    </tr>\n",
       "  </tbody>\n",
       "</table>\n",
       "</div>"
      ],
      "text/plain": [
       "            date_time  demand_MW  base_demand_f0  demand_anomaly_f0\n",
       "0 2019-07-02 00:00:00    17918.0    19200.860439       -1282.860439\n",
       "1 2019-07-02 01:00:00    17400.0    18864.549754       -1464.549754\n",
       "2 2019-07-02 02:00:00    16700.0    17987.453369       -1287.453369\n",
       "3 2019-07-02 03:00:00    15190.0    16642.709191       -1452.709191\n",
       "4 2019-07-02 04:00:00    13623.0    15313.665261       -1690.665261"
      ]
     },
     "execution_count": 7,
     "metadata": {},
     "output_type": "execute_result"
    }
   ],
   "source": [
    "test_df['demand_anomaly_f0'] = test_df['demand_MW'] - test_df.base_demand_f0\n",
    "test_df.head()"
   ]
  },
  {
   "cell_type": "code",
   "execution_count": 8,
   "id": "f5811617",
   "metadata": {},
   "outputs": [
    {
     "data": {
      "text/plain": [
       "array([-1071.01611934, -1435.8496306 , -1062.95375993, -1389.62678814,\n",
       "       -1714.02232646])"
      ]
     },
     "execution_count": 8,
     "metadata": {},
     "output_type": "execute_result"
    }
   ],
   "source": [
    "demand_anomaly_f2 = residual_model_f2.predict(test_df)\n",
    "demand_anomaly_f2"
   ]
  },
  {
   "cell_type": "code",
   "execution_count": 9,
   "id": "9caabab2",
   "metadata": {},
   "outputs": [
    {
     "data": {
      "text/plain": [
       "12245.745094542379"
      ]
     },
     "execution_count": 9,
     "metadata": {},
     "output_type": "execute_result"
    }
   ],
   "source": [
    "pred_demand_f2 = base_demand_f2[-1] + demand_anomaly_f2[-1]\n",
    "pred_demand_f2"
   ]
  },
  {
   "cell_type": "code",
   "execution_count": 30,
   "id": "a63d6ee2",
   "metadata": {},
   "outputs": [
    {
     "data": {
      "text/plain": [
       "Timestamp('2019-07-02 04:00:00')"
      ]
     },
     "execution_count": 30,
     "metadata": {},
     "output_type": "execute_result"
    }
   ],
   "source": [
    "pred_time = test_df['date_time'].iloc[-1]\n",
    "\n",
    "pred_time"
   ]
  },
  {
   "cell_type": "code",
   "execution_count": 31,
   "id": "5a1c6058",
   "metadata": {},
   "outputs": [],
   "source": [
    "# Define a function to make predictions\n",
    "def predict_f2(input_json):\n",
    "    # Convert the input data into a DataFrame with the same structure as f0_train\n",
    "    # The input data should contain the past 5 hours of demand data in the 'demand_MW' column\n",
    "    input_df = pd.DataFrame(input_json['data'])\n",
    "    input_df['date_time'] = pd.to_datetime(input_df['date_time'])\n",
    "    input_df['demand_MW'] = input_df['demand_MW'].astype(float)\n",
    "    \n",
    "    # Use the fitted season models to predict base demand for the current and future hours\n",
    "    input_df['base_demand_f0'] = np.expm1(season_model_f0.predict(input_df))\n",
    "    base_demand_f2 = np.expm1(season_model_f2.predict(input_df))\n",
    "    \n",
    "    # Calculate the demand anomaly for the current hour and 2 hours in the future\n",
    "    input_df['demand_anomaly_f0'] = input_df['demand_MW'] - input_df['base_demand_f0']\n",
    "    demand_anomaly_f2 = residual_model_f2.predict(input_df)\n",
    "    \n",
    "    # Calculate the final demand forecast for 2 hours in the future\n",
    "    pred_demand_f2 = base_demand_f2[-1] + demand_anomaly_f2[-1]\n",
    "    \n",
    "    pred_time = input_df.iloc[-1]['date_time'] + pd.DateOffset(hours=2)  \n",
    "    \n",
    "    pred_timestring = pred_time.strftime('%Y-%m-%d %H:%M:%S')\n",
    "    \n",
    "    return pred_timestring, int(pred_demand_f2)"
   ]
  },
  {
   "cell_type": "code",
   "execution_count": 34,
   "id": "30c9391e",
   "metadata": {},
   "outputs": [
    {
     "name": "stdout",
     "output_type": "stream",
     "text": [
      "Forecasted demand for 2019-07-02 06:00:00: 12245 MW\n"
     ]
    }
   ],
   "source": [
    "records ={\n",
    "    'data': [\n",
    "        {'date_time': '2019-07-02 00:00:00', 'demand_MW': 17918},\n",
    "        {'date_time': '2019-07-02 01:00:00', 'demand_MW': 17400},\n",
    "        {'date_time': '2019-07-02 02:00:00', 'demand_MW': 16700},\n",
    "        {'date_time': '2019-07-02 03:00:00', 'demand_MW': 15190},\n",
    "        {'date_time': '2019-07-02 04:00:00', 'demand_MW': 13623}\n",
    "    ]\n",
    "}\n",
    "\n",
    "\n",
    "# Make a demand forecast for 2 hours in the future\n",
    "time_f2, forecast = predict_f2(records)\n",
    "    \n",
    "print(f\"Forecasted demand for {time_f2}: {forecast} MW\")"
   ]
  },
  {
   "cell_type": "code",
   "execution_count": 33,
   "id": "4a055803",
   "metadata": {},
   "outputs": [
    {
     "data": {
      "text/plain": [
       "tuple"
      ]
     },
     "execution_count": 33,
     "metadata": {},
     "output_type": "execute_result"
    }
   ],
   "source": [
    "type(forecast)"
   ]
  },
  {
   "cell_type": "code",
   "execution_count": null,
   "id": "daa62a1c",
   "metadata": {},
   "outputs": [],
   "source": []
  }
 ],
 "metadata": {
  "kernelspec": {
   "display_name": "Python 3 (ipykernel)",
   "language": "python",
   "name": "python3"
  },
  "language_info": {
   "codemirror_mode": {
    "name": "ipython",
    "version": 3
   },
   "file_extension": ".py",
   "mimetype": "text/x-python",
   "name": "python",
   "nbconvert_exporter": "python",
   "pygments_lexer": "ipython3",
   "version": "3.11.5"
  }
 },
 "nbformat": 4,
 "nbformat_minor": 5
}
