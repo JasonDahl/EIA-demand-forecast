{
 "cells": [
  {
   "cell_type": "code",
   "execution_count": 4,
   "id": "b6184bc9",
   "metadata": {},
   "outputs": [],
   "source": [
    "import datetime as dt\n",
    "import numpy as np\n",
    "import pandas as pd\n",
    "\n",
    "import pickle\n",
    "\n",
    "from sklearn import base\n",
    "from sklearn.pipeline import Pipeline, FeatureUnion\n",
    "from sklearn.linear_model import LinearRegression\n",
    "from sklearn.preprocessing import StandardScaler\n",
    "from sklearn import metrics\n",
    "from sklearn import ensemble"
   ]
  },
  {
   "cell_type": "code",
   "execution_count": 5,
   "id": "23ea4c94",
   "metadata": {},
   "outputs": [],
   "source": [
    "#define custom transformers\n",
    "class HourofDay(base.BaseEstimator, base.TransformerMixin):\n",
    "    \n",
    "    def __init__(self, column_name='target', horizon=0):\n",
    "        self.column_name=column_name\n",
    "        self.horizon = horizon\n",
    "    \n",
    "    def fit(self, X, y=None):\n",
    "        return self\n",
    "    \n",
    "    def hour_vector(self, hour):\n",
    "        v = np.zeros(24)\n",
    "        v[hour] = 1\n",
    "        return v\n",
    "    \n",
    "    def transform(self, X):\n",
    "        # Adjust the timestamp with the horizon offset\n",
    "        adjusted_timestamp = X[self.column_name] + pd.DateOffset(hours=self.horizon)\n",
    "        \n",
    "        # Extract the hour of the day for the adjusted timestamp\n",
    "        hour_of_day = adjusted_timestamp.dt.hour\n",
    "        \n",
    "        return np.stack([self.hour_vector(h) for h in hour_of_day])\n",
    "    \n",
    "class DayofWeek(base.BaseEstimator, base.TransformerMixin):\n",
    "    \n",
    "    def __init__(self, column_name='target', horizon=0):\n",
    "        self.column_name=column_name\n",
    "        self.horizon=horizon\n",
    "    \n",
    "    def fit(self, X, y=None):\n",
    "        return self\n",
    "    \n",
    "    def weekday_vector(self, weekday):\n",
    "        v = np.zeros(7)\n",
    "        v[weekday] = 1\n",
    "        return v\n",
    "    \n",
    "    def transform(self, X):\n",
    "        # Adjust the timestamp with the horizon offset\n",
    "        adjusted_timestamp = X[self.column_name] + pd.DateOffset(hours=self.horizon)\n",
    "        \n",
    "        # Extract the day of the week for the adjusted timestamp\n",
    "        day_of_week = adjusted_timestamp.dt.dayofweek\n",
    "        \n",
    "        return np.stack([self.weekday_vector(d) for d in day_of_week])\n",
    "\n",
    "class MonthofYear(base.BaseEstimator, base.TransformerMixin):\n",
    "    \n",
    "    def __init__(self, column_name='target', horizon=0):\n",
    "        self.column_name=column_name\n",
    "        self.horizon=horizon\n",
    "    \n",
    "    def fit(self, X, y=None):\n",
    "        return self\n",
    "    \n",
    "    def month_vector(self, month):\n",
    "        v = np.zeros(12)\n",
    "        v[month-1] = 1\n",
    "        return v\n",
    "    \n",
    "    def transform(self, X):\n",
    "        # Adjust the timestamp with the horizon offset\n",
    "        adjusted_timestamp = X[self.column_name] + pd.DateOffset(hours=self.horizon)\n",
    "        \n",
    "        # Extract the hour of the day for the adjusted timestamp\n",
    "        month_of_year = adjusted_timestamp.dt.month\n",
    "        \n",
    "        return np.stack([self.month_vector(m) for m in month_of_year])\n",
    "    \n",
    "class LagTransformer(base.BaseEstimator, base.TransformerMixin):\n",
    "    def __init__(self, column_name='label', lag=1):\n",
    "        self.lag=lag\n",
    "        self.column_name=column_name\n",
    "    \n",
    "    def fit(self, X, y=None):\n",
    "        return self\n",
    "    \n",
    "    def transform(self, X):\n",
    "        # Create a copy of the input DataFrame to avoid altering the original\n",
    "        X_copy = X.copy()\n",
    "        \n",
    "        # Shift the specified column by 'lag' rows\n",
    "        if self.lag <= len(X) - 1:\n",
    "            X_copy[f'{self.column_name}-{self.lag}'] = X_copy[self.column_name].shift(self.lag)\n",
    "            X_copy[f'{self.column_name}-{self.lag}'] = X_copy[f'{self.column_name}-{self.lag}'].fillna(method='bfill', axis=0)\n",
    "            return X_copy[[f'{self.column_name}-{self.lag}']]\n",
    "        else:\n",
    "            print(f'Requested shift {self.lag} > number of records. Returning {self.column_name}-{len(X_copy)-1}')\n",
    "            X_copy[f'{self.column_name}-{len(X_copy)-1}'] = X_copy[self.column_name].shift(len(X_copy) - 1)\n",
    "            X_copy[f'{self.column_name}-{len(X_copy)-1}'] = X_copy[f'{self.column_name}-{len(X_copy)-1}'].fillna(method='bfill', axis=0)\n",
    "            return X_copy[f'{self.column_name}-{len(X_copy)-1}']"
   ]
  },
  {
   "cell_type": "code",
   "execution_count": 6,
   "id": "1c64a2b7",
   "metadata": {},
   "outputs": [],
   "source": [
    "# Load the pickled models\n",
    "with open('base_nowcast.bin', 'rb') as f_in:\n",
    "    season_model_f0 = pickle.load(f_in)\n",
    "\n",
    "with open('base_forecast_f2.bin', 'rb') as f_in:\n",
    "    season_model_f2 = pickle.load(f_in)\n",
    "\n",
    "with open('residual_forecast_f2.bin', 'rb') as f_in:\n",
    "    residual_model_f2 = pickle.load(f_in)"
   ]
  },
  {
   "cell_type": "code",
   "execution_count": 27,
   "id": "9cda6596",
   "metadata": {},
   "outputs": [],
   "source": [
    "# Load 5 hours of historical demand data into the input_data variable\n",
    "input_times = ['2019-07-02 00:00:00', '2019-07-02 01:00:00', '2019-07-02 02:00:00', \n",
    "               '2019-07-02 03:00:00', '2019-07-02 04:00:00']\n",
    "\n",
    "input_demands = [17918, 17400, 16700, 15190, 13623]\n",
    "\n",
    "time_objects = [pd.to_datetime(time_str) for time_str in input_times]\n",
    "test_df = pd.DataFrame({'date_time': time_objects, 'demand_MW': list(map(float, input_demands))})"
   ]
  },
  {
   "cell_type": "code",
   "execution_count": 28,
   "id": "f1437cf4",
   "metadata": {},
   "outputs": [],
   "source": [
    "test_df['base_demand_f0'] = np.expm1(season_model_f0.predict(test_df))"
   ]
  },
  {
   "cell_type": "code",
   "execution_count": 29,
   "id": "8f3ace9c",
   "metadata": {},
   "outputs": [
    {
     "data": {
      "text/plain": [
       "array([17934.82994512, 16594.01968172, 15269.32974356, 14378.77351081,\n",
       "       13959.767421  ])"
      ]
     },
     "execution_count": 29,
     "metadata": {},
     "output_type": "execute_result"
    }
   ],
   "source": [
    "base_demand_f2 = np.expm1(season_model_f2.predict(test_df))\n",
    "base_demand_f2"
   ]
  },
  {
   "cell_type": "code",
   "execution_count": 30,
   "id": "c2b37a88",
   "metadata": {
    "scrolled": true
   },
   "outputs": [
    {
     "data": {
      "text/html": [
       "<div>\n",
       "<style scoped>\n",
       "    .dataframe tbody tr th:only-of-type {\n",
       "        vertical-align: middle;\n",
       "    }\n",
       "\n",
       "    .dataframe tbody tr th {\n",
       "        vertical-align: top;\n",
       "    }\n",
       "\n",
       "    .dataframe thead th {\n",
       "        text-align: right;\n",
       "    }\n",
       "</style>\n",
       "<table border=\"1\" class=\"dataframe\">\n",
       "  <thead>\n",
       "    <tr style=\"text-align: right;\">\n",
       "      <th></th>\n",
       "      <th>date_time</th>\n",
       "      <th>demand_MW</th>\n",
       "      <th>base_demand_f0</th>\n",
       "      <th>demand_anomaly_f0</th>\n",
       "    </tr>\n",
       "  </thead>\n",
       "  <tbody>\n",
       "    <tr>\n",
       "      <th>0</th>\n",
       "      <td>2019-07-02 00:00:00</td>\n",
       "      <td>17918.0</td>\n",
       "      <td>19142.934553</td>\n",
       "      <td>-1224.934553</td>\n",
       "    </tr>\n",
       "    <tr>\n",
       "      <th>1</th>\n",
       "      <td>2019-07-02 01:00:00</td>\n",
       "      <td>17400.0</td>\n",
       "      <td>18795.014779</td>\n",
       "      <td>-1395.014779</td>\n",
       "    </tr>\n",
       "    <tr>\n",
       "      <th>2</th>\n",
       "      <td>2019-07-02 02:00:00</td>\n",
       "      <td>16700.0</td>\n",
       "      <td>17930.451615</td>\n",
       "      <td>-1230.451615</td>\n",
       "    </tr>\n",
       "    <tr>\n",
       "      <th>3</th>\n",
       "      <td>2019-07-02 03:00:00</td>\n",
       "      <td>15190.0</td>\n",
       "      <td>16588.956056</td>\n",
       "      <td>-1398.956056</td>\n",
       "    </tr>\n",
       "    <tr>\n",
       "      <th>4</th>\n",
       "      <td>2019-07-02 04:00:00</td>\n",
       "      <td>13623.0</td>\n",
       "      <td>15262.341141</td>\n",
       "      <td>-1639.341141</td>\n",
       "    </tr>\n",
       "  </tbody>\n",
       "</table>\n",
       "</div>"
      ],
      "text/plain": [
       "            date_time  demand_MW  base_demand_f0  demand_anomaly_f0\n",
       "0 2019-07-02 00:00:00    17918.0    19142.934553       -1224.934553\n",
       "1 2019-07-02 01:00:00    17400.0    18795.014779       -1395.014779\n",
       "2 2019-07-02 02:00:00    16700.0    17930.451615       -1230.451615\n",
       "3 2019-07-02 03:00:00    15190.0    16588.956056       -1398.956056\n",
       "4 2019-07-02 04:00:00    13623.0    15262.341141       -1639.341141"
      ]
     },
     "execution_count": 30,
     "metadata": {},
     "output_type": "execute_result"
    }
   ],
   "source": [
    "test_df['demand_anomaly_f0'] = test_df['demand_MW'] - test_df.base_demand_f0\n",
    "test_df.head()"
   ]
  },
  {
   "cell_type": "code",
   "execution_count": 31,
   "id": "47aaa348",
   "metadata": {},
   "outputs": [
    {
     "data": {
      "text/plain": [
       "array([-1081.44350508, -1323.57782728, -1067.59977233, -1323.6557045 ,\n",
       "       -1715.06957368])"
      ]
     },
     "execution_count": 31,
     "metadata": {},
     "output_type": "execute_result"
    }
   ],
   "source": [
    "demand_anomaly_f2 = residual_model_f2.predict(test_df)\n",
    "demand_anomaly_f2"
   ]
  },
  {
   "cell_type": "code",
   "execution_count": 34,
   "id": "b0910a4c",
   "metadata": {},
   "outputs": [
    {
     "data": {
      "text/plain": [
       "12244.697847315821"
      ]
     },
     "execution_count": 34,
     "metadata": {},
     "output_type": "execute_result"
    }
   ],
   "source": [
    "pred_demand_f2 = base_demand_f2[-1] + demand_anomaly_f2[-1]\n",
    "pred_demand_f2"
   ]
  },
  {
   "cell_type": "code",
   "execution_count": 37,
   "id": "9dce3649",
   "metadata": {},
   "outputs": [],
   "source": [
    "# Define a function to make predictions\n",
    "def predict_demand(input_times, input_demands):\n",
    "    # Convert the input data into a DataFrame with the same structure as f0_train\n",
    "    # The input data should contain the past 5 hours of demand data in the 'demand_MW' column\n",
    "    time_objects = [pd.to_datetime(time_str) for time_str in input_times]\n",
    "\n",
    "    input_df = pd.DataFrame({'date_time': time_objects, 'demand_MW': list(map(float, input_demands))})\n",
    "    \n",
    "    # Use the fitted season models to predict base demand for the current and future hours\n",
    "    test_df['base_demand_f0'] = np.expm1(season_model_f0.predict(input_df))\n",
    "    base_demand_f2 = np.expm1(season_model_f2.predict(input_df))\n",
    "    \n",
    "    # Calculate the demand anomaly for the current hour and 2 hours in the future\n",
    "    test_df['demand_anomaly_f0'] = input_df['demand_MW'] - base_demand_f0\n",
    "    demand_anomaly_f2 = residual_model_f2.predict(test_df)\n",
    "    \n",
    "    # Calculate the final demand forecast for 2 hours in the future\n",
    "    pred_demand_f2 = base_demand_f2[-1] + demand_anomaly_f2[-1]\n",
    "    \n",
    "    return int(pred_demand_f2)"
   ]
  },
  {
   "cell_type": "code",
   "execution_count": 38,
   "id": "f2335d42",
   "metadata": {},
   "outputs": [
    {
     "name": "stdout",
     "output_type": "stream",
     "text": [
      "Forecasted demand for 2 hours in the future: 12244 MW\n"
     ]
    }
   ],
   "source": [
    "# Make a demand forecast for 2 hours in the future\n",
    "forecast = predict_demand(input_times, input_demands)\n",
    "    \n",
    "print(f\"Forecasted demand for 2 hours in the future: {forecast} MW\")"
   ]
  },
  {
   "cell_type": "code",
   "execution_count": null,
   "id": "ebd93a93",
   "metadata": {},
   "outputs": [],
   "source": []
  }
 ],
 "metadata": {
  "kernelspec": {
   "display_name": "Python 3 (ipykernel)",
   "language": "python",
   "name": "python3"
  },
  "language_info": {
   "codemirror_mode": {
    "name": "ipython",
    "version": 3
   },
   "file_extension": ".py",
   "mimetype": "text/x-python",
   "name": "python",
   "nbconvert_exporter": "python",
   "pygments_lexer": "ipython3",
   "version": "3.11.5"
  }
 },
 "nbformat": 4,
 "nbformat_minor": 5
}
